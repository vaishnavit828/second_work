{
 "cells": [
  {
   "cell_type": "markdown",
   "metadata": {},
   "source": [
    "# Tallem Vaishnavi"
   ]
  },
  {
   "cell_type": "markdown",
   "metadata": {},
   "source": [
    "#Q1. Write a lambda expression to extract first word of a string. "
   ]
  },
  {
   "cell_type": "code",
   "execution_count": 6,
   "metadata": {},
   "outputs": [
    {
     "name": "stdout",
     "output_type": "stream",
     "text": [
      "Hello\n"
     ]
    }
   ],
   "source": [
    "string = 'Hello world'\n",
    "a=lambda string : string.split()[0]\n",
    "print(a(string))"
   ]
  },
  {
   "cell_type": "markdown",
   "metadata": {},
   "source": [
    "#Q2. Write a function to extract first word of s string (with many words separated by space). "
   ]
  },
  {
   "cell_type": "code",
   "execution_count": 7,
   "metadata": {},
   "outputs": [
    {
     "name": "stdout",
     "output_type": "stream",
     "text": [
      "python\n"
     ]
    }
   ],
   "source": [
    "def first_word():\n",
    "  string_1 = \"python is a interrupted language\"\n",
    "  print(string_1.split()[0])\n",
    "first_word()"
   ]
  },
  {
   "cell_type": "markdown",
   "metadata": {},
   "source": [
    "#Q3. Extract the first word from every string from a list of strings by using map function. "
   ]
  },
  {
   "cell_type": "code",
   "execution_count": 8,
   "metadata": {},
   "outputs": [
    {
     "name": "stdout",
     "output_type": "stream",
     "text": [
      "['first', 'second', 'third', 'forth']\n"
     ]
    }
   ],
   "source": [
    "l = ['first word','second word','third word','forth word']\n",
    "list_1 = list(next(zip(*map(str.split,l))))\n",
    "print(list_1)"
   ]
  },
  {
   "cell_type": "markdown",
   "metadata": {},
   "source": [
    "#Q4. Write a function to return a list of prime factors of a given number."
   ]
  },
  {
   "cell_type": "code",
   "execution_count": 9,
   "metadata": {},
   "outputs": [
    {
     "name": "stdout",
     "output_type": "stream",
     "text": [
      "3\n",
      "3\n",
      "5\n",
      "7\n"
     ]
    }
   ],
   "source": [
    "import math\n",
    "def primeFactors(n): \n",
    "  while n % 2 == 0:\n",
    "    print (2)\n",
    "    n = n / 2\n",
    "  for i in range(3,int(math.sqrt(n))+1,2):\n",
    "    while n % i== 0:\n",
    "      print (i) \n",
    "      n = n / i\n",
    "  if n > 2:\n",
    "    print (n) \n",
    "primeFactors(315) "
   ]
  },
  {
   "cell_type": "markdown",
   "metadata": {},
   "source": [
    "#Q5. Write a function that finds 2nd largest among 4 numbers (Repetitions are allowed,\n",
    "without sorting). "
   ]
  },
  {
   "cell_type": "code",
   "execution_count": 10,
   "metadata": {},
   "outputs": [
    {
     "name": "stdout",
     "output_type": "stream",
     "text": [
      "20\n"
     ]
    }
   ],
   "source": [
    "def findLargest(arr):\n",
    "  secondLargest = arr[0]\n",
    "  largest = arr[0]\n",
    "  for i in range(len(arr)):\n",
    "    if arr[i] > largest:\n",
    "      largest = arr[i]\n",
    "  for i in range(len(arr)):\n",
    "    if arr[i] > secondLargest and arr[i] != largest:\n",
    "      secondLargest = arr[i]\n",
    "  return secondLargest\n",
    "print(findLargest([10, 20, 4, 45]))"
   ]
  },
  {
   "cell_type": "code",
   "execution_count": null,
   "metadata": {},
   "outputs": [],
   "source": []
  },
  {
   "cell_type": "code",
   "execution_count": null,
   "metadata": {},
   "outputs": [],
   "source": []
  }
 ],
 "metadata": {
  "kernelspec": {
   "display_name": "Python 3",
   "language": "python",
   "name": "python3"
  },
  "language_info": {
   "codemirror_mode": {
    "name": "ipython",
    "version": 3
   },
   "file_extension": ".py",
   "mimetype": "text/x-python",
   "name": "python",
   "nbconvert_exporter": "python",
   "pygments_lexer": "ipython3",
   "version": "3.8.5"
  }
 },
 "nbformat": 4,
 "nbformat_minor": 4
}
